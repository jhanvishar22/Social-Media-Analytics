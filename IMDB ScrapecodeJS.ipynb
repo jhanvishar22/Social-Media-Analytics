{
 "cells": [
  {
   "cell_type": "code",
   "execution_count": 1,
   "id": "7a76005b",
   "metadata": {},
   "outputs": [],
   "source": [
    "\n",
    "import numpy as np\n",
    "import pandas as pd\n",
    "from scrapy.selector import Selector\n",
    "from selenium import webdriver \n",
    "from selenium.webdriver.common.by import By\n",
    "from selenium.webdriver.common.keys import Keys\n",
    "import time\n",
    "from tqdm import tqdm\n",
    "import warnings\n",
    "warnings.filterwarnings(\"ignore\")"
   ]
  },
  {
   "cell_type": "code",
   "execution_count": 2,
   "id": "f012643f",
   "metadata": {},
   "outputs": [],
   "source": [
    "url = ['https://www.imdb.com/title/tt0111161/reviews/?ref_=tt_ql_urv',\n",
    "'https://www.imdb.com/title/tt0068646/reviews/?ref_=tt_ql_urv',\n",
    "'https://www.imdb.com/title/tt0109830/reviews/?ref_=tt_ql_urv',\n",
    "'https://www.imdb.com/title/tt0468569/reviews/?ref_=tt_ql_urv',\n",
    "'https://www.imdb.com/title/tt0137523/reviews/?ref_=tt_ql_urv',\n",
    "'https://www.imdb.com/title/tt1375666/reviews/?ref_=tt_ql_urv',\n",
    "'https://www.imdb.com/title/tt0110912/reviews/?ref_=tt_ql_urv',\n",
    "'https://www.imdb.com/title/tt0120689/reviews/?ref_=tt_ql_urv',\n",
    "'https://www.imdb.com/title/tt0108052/reviews/?ref_=tt_ql_urv',\n",
    "'https://www.imdb.com/title/tt0816692/reviews/?ref_=tt_ql_urv',\n",
    "'https://www.imdb.com/title/tt0114369/reviews/?ref_=tt_ql_urv',\n",
    "'https://www.imdb.com/title/tt0167260/reviews/?ref_=tt_ql_urv',\n",
    "'https://www.imdb.com/title/tt11564570/reviews?ref_=tt_urv',\n",
    "'https://www.imdb.com/title/tt1630029/reviews?ref_=tt_urv',\n",
    "'https://www.imdb.com/title/tt1745960/reviews?ref_=tt_urv',\n",
    "'https://www.imdb.com/title/tt14138650/reviews?ref_=tt_urv',\n",
    "'https://www.imdb.com/title/tt8760708/reviews?ref_=tt_urv',\n",
    "'https://www.imdb.com/title/tt6710474/reviews?ref_=tt_urv',\n",
    "'https://www.imdb.com/title/tt12593682/reviews?ref_=tt_urv',\n",
    "'https://www.imdb.com/title/tt9114286/reviews?ref_=tt_urv',\n",
    "'https://www.imdb.com/title/tt8178634/reviews?ref_=tt_urv',\n",
    "'https://www.imdb.com/title/tt10954984/reviews?ref_=tt_urv',\n",
    "'https://www.imdb.com/title/tt3447590/reviews/?ref_=tt_ql_urv',\n",
    "'https://www.imdb.com/title/tt3704428/reviews/?ref_=tt_ql_urv',\n",
    "'https://www.imdb.com/title/tt9764362/reviews/?ref_=tt_ql_urv',\n",
    "'https://www.imdb.com/title/tt14208870/reviews/?ref_=tt_ql_urv',\n",
    "'https://www.imdb.com/title/tt6160448/reviews/?ref_=tt_ql_urv',\n",
    "'https://www.imdb.com/title/tt7693316/reviews/?ref_=tt_ql_urv'\n",
    "]"
   ]
  },
  {
   "cell_type": "code",
   "execution_count": 3,
   "id": "cc57c3b5",
   "metadata": {},
   "outputs": [],
   "source": [
    "dfreview = pd.DataFrame()"
   ]
  },
  {
   "cell_type": "code",
   "execution_count": 8,
   "id": "576ebc5c",
   "metadata": {},
   "outputs": [
    {
     "name": "stdout",
     "output_type": "stream",
     "text": [
      "The Shawshank Redemption (1994) - The Shawshank Redemption (1994) - User Reviews - IMDb\n"
     ]
    },
    {
     "name": "stderr",
     "output_type": "stream",
     "text": [
      "100%|██████████| 425/425 [00:21<00:00, 20.02it/s]\n",
      "100%|██████████| 299/299 [00:10<00:00, 28.71it/s]\n"
     ]
    },
    {
     "name": "stdout",
     "output_type": "stream",
     "text": [
      "The Godfather (1972) - The Godfather (1972) - User Reviews - IMDb\n"
     ]
    },
    {
     "name": "stderr",
     "output_type": "stream",
     "text": [
      "100%|██████████| 210/210 [00:09<00:00, 22.63it/s]\n",
      "100%|██████████| 175/175 [00:07<00:00, 23.09it/s]\n"
     ]
    },
    {
     "name": "stdout",
     "output_type": "stream",
     "text": [
      "Forrest Gump (1994) - Forrest Gump (1994) - User Reviews - IMDb\n"
     ]
    },
    {
     "name": "stderr",
     "output_type": "stream",
     "text": [
      "100%|██████████| 121/121 [00:04<00:00, 26.34it/s]\n",
      "100%|██████████| 100/100 [00:05<00:00, 18.11it/s]\n"
     ]
    },
    {
     "name": "stdout",
     "output_type": "stream",
     "text": [
      "The Dark Knight (2008) - The Dark Knight (2008) - User Reviews - IMDb\n"
     ]
    },
    {
     "name": "stderr",
     "output_type": "stream",
     "text": [
      "100%|██████████| 335/335 [00:19<00:00, 16.97it/s]\n",
      "100%|██████████| 275/275 [00:11<00:00, 23.77it/s]\n"
     ]
    },
    {
     "name": "stdout",
     "output_type": "stream",
     "text": [
      "Fight Club (1999) - Fight Club (1999) - User Reviews - IMDb\n"
     ]
    },
    {
     "name": "stderr",
     "output_type": "stream",
     "text": [
      "100%|██████████| 176/176 [00:11<00:00, 15.70it/s]\n",
      "100%|██████████| 224/224 [00:10<00:00, 20.65it/s]\n"
     ]
    },
    {
     "name": "stdout",
     "output_type": "stream",
     "text": [
      "Inception (2010) - Inception (2010) - User Reviews - IMDb\n"
     ]
    },
    {
     "name": "stderr",
     "output_type": "stream",
     "text": [
      "100%|██████████| 186/186 [00:04<00:00, 39.47it/s]\n",
      "100%|██████████| 100/100 [00:04<00:00, 24.47it/s]\n"
     ]
    },
    {
     "name": "stdout",
     "output_type": "stream",
     "text": [
      "Pulp Fiction (1994) - Pulp Fiction (1994) - User Reviews - IMDb\n"
     ]
    },
    {
     "name": "stderr",
     "output_type": "stream",
     "text": [
      "100%|██████████| 142/142 [00:05<00:00, 27.50it/s]\n",
      "100%|██████████| 125/125 [00:05<00:00, 23.53it/s]\n"
     ]
    },
    {
     "name": "stdout",
     "output_type": "stream",
     "text": [
      "The Green Mile (1999) - The Green Mile (1999) - User Reviews - IMDb\n"
     ]
    },
    {
     "name": "stderr",
     "output_type": "stream",
     "text": [
      "100%|██████████| 83/83 [00:01<00:00, 61.19it/s]\n",
      "100%|██████████| 50/50 [00:02<00:00, 18.11it/s]\n"
     ]
    },
    {
     "name": "stdout",
     "output_type": "stream",
     "text": [
      "Schindler's List (1993) - Schindler's List (1993) - User Reviews - IMDb\n"
     ]
    },
    {
     "name": "stderr",
     "output_type": "stream",
     "text": [
      "100%|██████████| 86/86 [00:03<00:00, 27.44it/s]\n",
      "100%|██████████| 75/75 [00:03<00:00, 20.20it/s]\n"
     ]
    },
    {
     "name": "stdout",
     "output_type": "stream",
     "text": [
      "Interstellar (2014) - Interstellar (2014) - User Reviews - IMDb\n"
     ]
    },
    {
     "name": "stderr",
     "output_type": "stream",
     "text": [
      "100%|██████████| 210/210 [00:03<00:00, 57.89it/s]\n",
      "100%|██████████| 75/75 [00:03<00:00, 21.74it/s]\n"
     ]
    },
    {
     "name": "stdout",
     "output_type": "stream",
     "text": [
      "Se7en (1995) - Se7en (1995) - User Reviews - IMDb\n"
     ]
    },
    {
     "name": "stderr",
     "output_type": "stream",
     "text": [
      "100%|██████████| 74/74 [00:02<00:00, 27.78it/s]\n",
      "100%|██████████| 75/75 [00:03<00:00, 19.45it/s]\n"
     ]
    },
    {
     "name": "stdout",
     "output_type": "stream",
     "text": [
      "The Lord of the Rings: The Return of the King (2003) - The Lord of the Rings: The Return of the King (2003) - User Reviews - IMDb\n"
     ]
    },
    {
     "name": "stderr",
     "output_type": "stream",
     "text": [
      "100%|██████████| 165/165 [00:08<00:00, 20.03it/s]\n",
      "100%|██████████| 125/125 [00:05<00:00, 22.61it/s]\n"
     ]
    },
    {
     "name": "stdout",
     "output_type": "stream",
     "text": [
      "Glass Onion (2022) - Glass Onion (2022) - User Reviews - IMDb\n"
     ]
    },
    {
     "name": "stderr",
     "output_type": "stream",
     "text": [
      "100%|██████████| 46/46 [00:01<00:00, 32.26it/s]\n",
      "100%|██████████| 50/50 [00:03<00:00, 14.52it/s]\n"
     ]
    },
    {
     "name": "stdout",
     "output_type": "stream",
     "text": [
      "Avatar: The Way of Water (2022) - Avatar: The Way of Water (2022) - User Reviews - IMDb\n"
     ]
    },
    {
     "name": "stderr",
     "output_type": "stream",
     "text": [
      "100%|██████████| 93/93 [00:02<00:00, 39.20it/s]\n",
      "100%|██████████| 75/75 [00:03<00:00, 21.15it/s]\n"
     ]
    },
    {
     "name": "stdout",
     "output_type": "stream",
     "text": [
      "Top Gun: Maverick (2022) - Top Gun: Maverick (2022) - User Reviews - IMDb\n"
     ]
    },
    {
     "name": "stderr",
     "output_type": "stream",
     "text": [
      "100%|██████████| 159/159 [00:05<00:00, 28.69it/s]\n",
      "100%|██████████| 150/150 [00:05<00:00, 28.06it/s]\n"
     ]
    },
    {
     "name": "stdout",
     "output_type": "stream",
     "text": [
      "The Pale Blue Eye (2022) - The Pale Blue Eye (2022) - User Reviews - IMDb\n"
     ]
    },
    {
     "name": "stderr",
     "output_type": "stream",
     "text": [
      "100%|██████████| 10/10 [00:00<00:00, 30.89it/s]\n",
      "100%|██████████| 25/25 [00:03<00:00,  6.98it/s]\n"
     ]
    },
    {
     "name": "stdout",
     "output_type": "stream",
     "text": [
      "M3GAN (2022) - M3GAN (2022) - User Reviews - IMDb\n"
     ]
    },
    {
     "name": "stderr",
     "output_type": "stream",
     "text": [
      "100%|██████████| 12/12 [00:00<00:00, 19.42it/s]\n",
      "100%|██████████| 25/25 [00:02<00:00,  9.48it/s]\n"
     ]
    },
    {
     "name": "stdout",
     "output_type": "stream",
     "text": [
      "Everything Everywhere All at Once (2022) - Everything Everywhere All at Once (2022) - User Reviews - IMDb\n"
     ]
    },
    {
     "name": "stderr",
     "output_type": "stream",
     "text": [
      "100%|██████████| 95/95 [00:03<00:00, 30.22it/s]\n",
      "100%|██████████| 75/75 [00:03<00:00, 19.63it/s]\n"
     ]
    },
    {
     "name": "stdout",
     "output_type": "stream",
     "text": [
      "Bullet Train (2022) - Bullet Train (2022) - User Reviews - IMDb\n"
     ]
    },
    {
     "name": "stderr",
     "output_type": "stream",
     "text": [
      "100%|██████████| 60/60 [00:02<00:00, 27.35it/s]\n",
      "100%|██████████| 75/75 [00:03<00:00, 20.70it/s]\n"
     ]
    },
    {
     "name": "stdout",
     "output_type": "stream",
     "text": [
      "Black Panther: Wakanda Forever (2022) - Black Panther: Wakanda Forever (2022) - User Reviews - IMDb\n"
     ]
    },
    {
     "name": "stderr",
     "output_type": "stream",
     "text": [
      "100%|██████████| 36/36 [00:01<00:00, 31.27it/s]\n",
      "100%|██████████| 50/50 [00:03<00:00, 15.19it/s]\n"
     ]
    },
    {
     "name": "stdout",
     "output_type": "stream",
     "text": [
      "RRR (2022) - RRR (2022) - User Reviews - IMDb\n"
     ]
    },
    {
     "name": "stderr",
     "output_type": "stream",
     "text": [
      "100%|██████████| 61/61 [00:02<00:00, 27.20it/s]\n",
      "100%|██████████| 75/75 [00:04<00:00, 16.92it/s]\n"
     ]
    },
    {
     "name": "stdout",
     "output_type": "stream",
     "text": [
      "Nope (2022) - Nope (2022) - User Reviews - IMDb\n"
     ]
    },
    {
     "name": "stderr",
     "output_type": "stream",
     "text": [
      "100%|██████████| 81/81 [00:01<00:00, 54.35it/s]\n",
      "100%|██████████| 50/50 [00:02<00:00, 17.76it/s]\n"
     ]
    },
    {
     "name": "stdout",
     "output_type": "stream",
     "text": [
      "Roald Dahl's Matilda the Musical (2022) - Roald Dahl's Matilda the Musical (2022) - User Reviews - IMDb\n"
     ]
    },
    {
     "name": "stderr",
     "output_type": "stream",
     "text": [
      "100%|██████████| 5/5 [00:00<00:00, 26.40it/s]\n",
      "100%|██████████| 25/25 [00:02<00:00,  9.52it/s]\n"
     ]
    },
    {
     "name": "stdout",
     "output_type": "stream",
     "text": [
      "Elvis (2022) - Elvis (2022) - User Reviews - IMDb\n"
     ]
    },
    {
     "name": "stderr",
     "output_type": "stream",
     "text": [
      "100%|██████████| 67/67 [00:02<00:00, 29.79it/s]\n",
      "100%|██████████| 75/75 [00:03<00:00, 19.73it/s]\n"
     ]
    },
    {
     "name": "stdout",
     "output_type": "stream",
     "text": [
      "The Menu (2022) - The Menu (2022) - User Reviews - IMDb\n"
     ]
    },
    {
     "name": "stderr",
     "output_type": "stream",
     "text": [
      "100%|██████████| 30/30 [00:01<00:00, 24.08it/s]\n",
      "100%|██████████| 50/50 [00:03<00:00, 15.04it/s]\n"
     ]
    },
    {
     "name": "stdout",
     "output_type": "stream",
     "text": [
      "The Fabelmans (2022) - The Fabelmans (2022) - User Reviews - IMDb\n"
     ]
    },
    {
     "name": "stderr",
     "output_type": "stream",
     "text": [
      "100%|██████████| 9/9 [00:00<00:00, 19.87it/s]\n",
      "100%|██████████| 25/25 [00:02<00:00,  8.94it/s]\n"
     ]
    },
    {
     "name": "stdout",
     "output_type": "stream",
     "text": [
      "White Noise (2022) - White Noise (2022) - User Reviews - IMDb\n"
     ]
    },
    {
     "name": "stderr",
     "output_type": "stream",
     "text": [
      "100%|██████████| 14/14 [00:00<00:00, 15.99it/s]\n",
      "100%|██████████| 25/25 [00:03<00:00,  6.37it/s]\n"
     ]
    },
    {
     "name": "stdout",
     "output_type": "stream",
     "text": [
      "Devotion (2022) - Devotion (2022) - User Reviews - IMDb\n"
     ]
    },
    {
     "name": "stderr",
     "output_type": "stream",
     "text": [
      "100%|██████████| 3/3 [00:00<00:00, 22.76it/s]\n",
      "100%|██████████| 25/25 [00:02<00:00,  9.72it/s]\n"
     ]
    }
   ],
   "source": [
    "for i in url:\n",
    "    driver = webdriver.Chrome('C:/Users/karti/Downloads/chromedriver.exe')\n",
    "    time.sleep(1)\n",
    "    driver.get(i)\n",
    "    time.sleep(1)\n",
    "    print(driver.title)\n",
    "    time.sleep(1)\n",
    "    body = driver.find_element(By.CSS_SELECTOR, 'body')\n",
    "    body.send_keys(Keys.PAGE_DOWN)\n",
    "    time.sleep(1)\n",
    "    body.send_keys(Keys.PAGE_DOWN)\n",
    "    time.sleep(1)\n",
    "    body.send_keys(Keys.PAGE_DOWN)\n",
    "\n",
    "    select = Selector(text = driver.page_source)\n",
    "    review_counts = select.css('.lister .header span::text').extract_first().replace(',','').split(' ')[0]\n",
    "    more_review_pages = int(int(review_counts)/25)\n",
    "    \n",
    "    for i in tqdm(range(more_review_pages)):\n",
    "        try:\n",
    "            css_selector = 'load-more-trigger'\n",
    "            driver.find_element(By.ID, css_selector).click()\n",
    "        except:\n",
    "            pass\n",
    "        \n",
    "    reviews = driver.find_elements(By.CSS_SELECTOR, 'div.review-container')\n",
    "    first_review = reviews[0]\n",
    "    select2 = Selector(text = first_review.get_attribute('innerHTML'))\n",
    "    rating = select2.css('.rating-other-user-rating span::text').extract_first()\n",
    "    movie_title_list=[]\n",
    "\n",
    "    rating_list = []\n",
    "    review_date_list = []\n",
    "    review_title_list = []\n",
    "    author_list = []\n",
    "    review_list = []\n",
    "    review_url_list = []\n",
    "    error_url_list = []\n",
    "    error_msg_list = []\n",
    "    reviews = driver.find_elements(By.CSS_SELECTOR, 'div.review-container')\n",
    "\n",
    "    \n",
    "    \n",
    "    for d in tqdm(reviews):\n",
    "        try:\n",
    "            sel2 = Selector(text = d.get_attribute('innerHTML'))\n",
    "            try:\n",
    "                rating = select2.css('.rating-other-user-rating span::text').extract_first()\n",
    "            except:\n",
    "                rating = np.NaN\n",
    "            try:\n",
    "                review = select2.css('.text.show-more__control::text').extract_first()\n",
    "            except:\n",
    "                review = np.NaN\n",
    "            try:\n",
    "                review_date = select2.css('.review-date::text').extract_first()\n",
    "            except:\n",
    "                review_date = np.NaN    \n",
    "            try:\n",
    "                author = select2.css('.display-name-link a::text').extract_first()\n",
    "            except:\n",
    "                author = np.NaN    \n",
    "            try:\n",
    "                review_title = select2.css('a.title::text').extract_first()\n",
    "            except:\n",
    "                review_title = np.NaN\n",
    "            try:\n",
    "                review_url = select2.css('a.title::attr(href)').extract_first()\n",
    "            except:\n",
    "                review_url = np.NaN\n",
    "            movie_title_list.append(driver.title)\n",
    "            rating_list.append(rating)\n",
    "            review_date_list.append(review_date)\n",
    "            review_title_list.append(review_title)\n",
    "            author_list.append(author)\n",
    "            review_list.append(review)\n",
    "            review_url_list.append(review_url)\n",
    "        except Exception as e:\n",
    "            error_url_list.append(url)\n",
    "            error_msg_list.append(e)\n",
    "    review_df = pd.DataFrame({\n",
    "        'Movie Title':movie_title_list,\n",
    "        'Review_Date':review_date_list,\n",
    "        'Author':author_list,\n",
    "        'Rating':rating_list,\n",
    "        'Review_Title':review_title_list,\n",
    "        'Review':review_list,\n",
    "        'Review_Url':review_url\n",
    "        })\n",
    "    dfreview = dfreview.append(review_df)\n"
   ]
  },
  {
   "cell_type": "code",
   "execution_count": 9,
   "id": "39098077",
   "metadata": {},
   "outputs": [],
   "source": [
    "dfreview.to_csv('IMDBreview.csv')"
   ]
  }
 ],
 "metadata": {
  "kernelspec": {
   "display_name": "Python 3 (ipykernel)",
   "language": "python",
   "name": "python3"
  },
  "language_info": {
   "codemirror_mode": {
    "name": "ipython",
    "version": 3
   },
   "file_extension": ".py",
   "mimetype": "text/x-python",
   "name": "python",
   "nbconvert_exporter": "python",
   "pygments_lexer": "ipython3",
   "version": "3.9.7"
  }
 },
 "nbformat": 4,
 "nbformat_minor": 5
}
